{
 "cells": [
  {
   "cell_type": "code",
   "execution_count": null,
   "id": "96c76dd0",
   "metadata": {},
   "outputs": [
    {
     "name": "stdout",
     "output_type": "stream",
     "text": [
      "(-65.25, 0.0, 0.03125)\n"
     ]
    }
   ],
   "source": [
    "import cv2\n",
    "import mediapipe as mp\n",
    "import numpy as np\n",
    "import math\n",
    "from pycaw.pycaw import AudioUtilities,IAudioEndpointVolume\n",
    "from comtypes import CLSCTX_ALL\n",
    "from ctypes import cast, POINTER\n",
    "cap = cv2.VideoCapture(0)\n",
    "mpHands = mp.solutions.hands\n",
    "hands = mpHands.Hands()\n",
    "mpDraw = mp.solutions.drawing_utils\n",
    "devices = AudioUtilities.GetSpeakers()\n",
    "interface = devices.Activate(\n",
    "    IAudioEndpointVolume._iid_, CLSCTX_ALL, None)\n",
    "volume = cast(interface, POINTER(IAudioEndpointVolume))\n",
    "volRange = volume.GetVolumeRange()\n",
    "minVol = volRange[0]\n",
    "maxVol = volRange[1]\n",
    "volume.SetMasterVolumeLevel(0.0, None)\n",
    "print(volRange)\n",
    "while True:\n",
    "    success, img = cap.read()\n",
    "    img = cv2.flip(img, 1)\n",
    "    imgRGB = cv2.cvtColor(img, cv2.COLOR_BGR2RGB)\n",
    "    results = hands.process(imgRGB)\n",
    "    lmList = []\n",
    "    if results.multi_hand_landmarks:\n",
    "        for handLms in results.multi_hand_landmarks:\n",
    "            for id, lm in enumerate(handLms.landmark):\n",
    "                h, w, c = img.shape\n",
    "                cx, cy = int(lm.x*w), int(lm.y*h)\n",
    "                lmList.append([id, cx, cy])\n",
    "                \n",
    "                mpDraw.draw_landmarks(img, handLms, mpHands.HAND_CONNECTIONS)\n",
    "                if len(lmList) > 9:\n",
    "                    x1, y1 = lmList[4][1], lmList[4][2]\n",
    "                    x2, y2 = lmList[8][1], lmList[8][2]\n",
    "                    cx, cy = (x1 + x2) //2, (y1 + y2) //2\n",
    "                    cv2.circle(img, (x1, y1), 8, (255, 0, 255), cv2.FILLED)\n",
    "                    cv2.circle(img, (x2, y2), 8, (255, 0, 255), cv2.FILLED)\n",
    "                    cv2.line(img, (x1, y1), (x2, y2), (0, 0, 0), 4)\n",
    "                    cv2.circle(img, (cx, cy), 5, (255, 0, 255), cv2.FILLED)\n",
    "                    length = math.hypot(x2- x1, y2- y1)\n",
    "                    #print(length)\n",
    "                    if length < 50:\n",
    "                        cv2.circle(img, (cx, cy), 5, (0, 0, 255),cv2.FILLED)\n",
    "                    if length < 200:\n",
    "                        cv2.circle(img, (cx, cy), 5, (0, 255, 0),cv2.FILLED)\n",
    "                    vol = np.interp(length, [50, 200], [minVol, maxVol])\n",
    "                    volume.SetMasterVolumeLevel(vol, None)\n",
    "    cv2.imshow(\"Img\", img)\n",
    "    if cv2.waitKey(5) & 0xff == 27:\n",
    "        break\n",
    "    "
   ]
  },
  {
   "cell_type": "code",
   "execution_count": null,
   "id": "7adee56e",
   "metadata": {},
   "outputs": [],
   "source": []
  }
 ],
 "metadata": {
  "kernelspec": {
   "display_name": "Python 3 (ipykernel)",
   "language": "python",
   "name": "python3"
  },
  "language_info": {
   "codemirror_mode": {
    "name": "ipython",
    "version": 3
   },
   "file_extension": ".py",
   "mimetype": "text/x-python",
   "name": "python",
   "nbconvert_exporter": "python",
   "pygments_lexer": "ipython3",
   "version": "3.9.13"
  }
 },
 "nbformat": 4,
 "nbformat_minor": 5
}
